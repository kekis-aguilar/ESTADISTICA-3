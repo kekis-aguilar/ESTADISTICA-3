{
 "cells": [
  {
   "cell_type": "markdown",
   "metadata": {},
   "source": [
    "## Pregunta 1\n",
    "Sea $X_1,...,X_n \\sim U(0, \\theta)$. El estimador de Máxima verosimilud de $\\theta$ es $\\hat{\\theta}=\\max\\{X_1,...,X_n\\}$\n",
    "\n",
    "Genera de forma aleatoria una muestra de tamaño 50 con $\\theta = 1$\n",
    "\n",
    "(a) Encuentra la distribución de $\\hat{\\theta}$ de forma teorica y compara con la obtenida usando remuestreos\n",
    "\n",
    "(b) Prueba que $\\mathbb{P}(\\hat{θ}^{∗} =\\hat{θ})\\approx .632$. Hint: Demuestra que , $\\mathbb{P}(\\hat{θ}^{∗}_n =\\max\\{X_1,...,X_n\\})=1 − (1 − (\\frac{1}{n}))^n$. toma el limite cuando $n$ es grande"
   ]
  },
  {
   "cell_type": "markdown",
   "metadata": {},
   "source": [
    "## Pregunta 2\n",
    "Calcula el ancho de banda optimo para estimar la densidad de Z usando un kernel normal.\n",
    "\n",
    "Compara con la distribución real\n",
    "\n",
    "$f(x) = \\frac{1}{2}\\phi(x:0,1) + \\frac{1}{10}\\sum_{j=0}^4\\phi(x:\\frac{j}{2}-1,\\frac{1}{10}) $\n",
    "\n",
    "Donde $\\phi(x:\\mu,\\sigma^2)$ es la densidad de una normal $\\mu,\\sigma^2$"
   ]
  },
  {
   "cell_type": "code",
   "execution_count": null,
   "metadata": {},
   "outputs": [],
   "source": [
    "Z = []\n",
    "for k in range(1000):\n",
    "    X1 = [np.random.normal(0,1)]\n",
    "    X2 = [np.random.normal(j/2-1,1/10) for j in range(5)]\n",
    "    Z.append(np.random.choice(a=X1+X2,p=[0.5,1/10,1/10,1/10,1/10,1/10]))"
   ]
  },
  {
   "cell_type": "markdown",
   "metadata": {},
   "source": [
    "## Pregunta 3\n",
    "\n",
    "Crea una función que reciba pares de datos y calcule la mejor estimación de un suavizamiento por Kernel Nadaraya-Watson de forma automatica y calcule su varianza. \n",
    "\n",
    "Para el conjunto de datos el csv DEIII.csv realiza las siguientes regresiones usando tu función que creaste\n",
    "\n",
    "- $Y_i = r_1(X_i) + \\varepsilon_{1i}$\n",
    "- $W_i = r_2(X_i) + \\varepsilon_{2i}$\n",
    "- $Z_i = r_3(X_i) + \\varepsilon_{3i}$\n",
    "- $Y_i = r_4(W_i) + \\varepsilon_{4i}$\n",
    "- $Y_i = r_5(Z_i) + \\varepsilon_{5i}$\n",
    "- $W_i = r_6(Z_i) + \\varepsilon_{6i}$\n",
    "\n",
    "Agrega graficas de las regresiones y su varianza. Deja manera explicita el valor de $h$ que hayas calculado\n",
    "\n",
    "Compara $\\hat{r}_2$ con $\\hat{r}_1\\circ\\hat{r}_4$"
   ]
  }
 ],
 "metadata": {
  "kernelspec": {
   "display_name": "Python 3",
   "language": "python",
   "name": "python3"
  },
  "language_info": {
   "codemirror_mode": {
    "name": "ipython",
    "version": 3
   },
   "file_extension": ".py",
   "mimetype": "text/x-python",
   "name": "python",
   "nbconvert_exporter": "python",
   "pygments_lexer": "ipython3",
   "version": "3.7.3"
  }
 },
 "nbformat": 4,
 "nbformat_minor": 2
}
